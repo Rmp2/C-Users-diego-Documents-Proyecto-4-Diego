{
 "cells": [
  {
   "cell_type": "code",
   "execution_count": 283,
   "id": "417a010c",
   "metadata": {},
   "outputs": [],
   "source": [
    "import pandas as pd\n",
    "from selenium import webdriver\n",
    "from webdriver_manager.chrome import ChromeDriverManager\n",
    "from selenium.webdriver.common.by import By\n",
    "import selenium\n",
    "import time\n",
    "import warnings\n",
    "warnings.simplefilter('ignore')\n",
    "import requests as rq\n",
    "import json\n",
    "from load import *\n",
    "import regex as re\n",
    "import seaborn as sns\n",
    "from sklearn import preprocessing"
   ]
  },
  {
   "cell_type": "markdown",
   "id": "9f14c3b9",
   "metadata": {},
   "source": [
    "### Inflacion anual España"
   ]
  },
  {
   "cell_type": "code",
   "execution_count": 353,
   "id": "7fe950f2",
   "metadata": {},
   "outputs": [],
   "source": [
    "url='https://datosmacro.expansion.com/ipc-paises/espana?sector=IPC+General&sc=IPC-IG'\n",
    "driver= webdriver.Chrome()\n",
    "driver.get(url)"
   ]
  },
  {
   "cell_type": "code",
   "execution_count": 354,
   "id": "90cf5feb",
   "metadata": {},
   "outputs": [],
   "source": [
    "fech=driver.find_elements(By.CLASS_NAME,'fecha')"
   ]
  },
  {
   "cell_type": "code",
   "execution_count": 355,
   "id": "221dc9d2",
   "metadata": {},
   "outputs": [],
   "source": [
    "fecha=[i.text for i in fech]"
   ]
  },
  {
   "cell_type": "code",
   "execution_count": 356,
   "id": "d69e7246",
   "metadata": {},
   "outputs": [],
   "source": [
    "nume=driver.find_elements(By.CLASS_NAME,'numero')"
   ]
  },
  {
   "cell_type": "code",
   "execution_count": 357,
   "id": "3819e25a",
   "metadata": {},
   "outputs": [],
   "source": [
    "numero=[i.text for i in nume]"
   ]
  },
  {
   "cell_type": "code",
   "execution_count": 358,
   "id": "3126580c",
   "metadata": {},
   "outputs": [],
   "source": [
    "n1=numero[::3]\n",
    "n2=numero[1::3]\n",
    "n3=numero[2::3]"
   ]
  },
  {
   "cell_type": "code",
   "execution_count": 359,
   "id": "96da3edf",
   "metadata": {},
   "outputs": [],
   "source": [
    "dic={\n",
    "    'Interanual':n1,\n",
    "    'Acum.desde Enero':n2,\n",
    "    'Variacion Mensual':n3}"
   ]
  },
  {
   "cell_type": "code",
   "execution_count": 362,
   "id": "eff4cb4b",
   "metadata": {},
   "outputs": [],
   "source": [
    "InflaEsp=pd.DataFrame(dic, index=fecha)"
   ]
  },
  {
   "cell_type": "code",
   "execution_count": 363,
   "id": "0345b49c",
   "metadata": {},
   "outputs": [
    {
     "data": {
      "text/html": [
       "<div>\n",
       "<style scoped>\n",
       "    .dataframe tbody tr th:only-of-type {\n",
       "        vertical-align: middle;\n",
       "    }\n",
       "\n",
       "    .dataframe tbody tr th {\n",
       "        vertical-align: top;\n",
       "    }\n",
       "\n",
       "    .dataframe thead th {\n",
       "        text-align: right;\n",
       "    }\n",
       "</style>\n",
       "<table border=\"1\" class=\"dataframe\">\n",
       "  <thead>\n",
       "    <tr style=\"text-align: right;\">\n",
       "      <th></th>\n",
       "      <th>Interanual</th>\n",
       "      <th>Acum.desde Enero</th>\n",
       "      <th>Variacion Mensual</th>\n",
       "    </tr>\n",
       "  </thead>\n",
       "  <tbody>\n",
       "    <tr>\n",
       "      <th>Octubre 2022</th>\n",
       "      <td>7,3%</td>\n",
       "      <td>5,6%</td>\n",
       "      <td>0,4%</td>\n",
       "    </tr>\n",
       "    <tr>\n",
       "      <th>Septiembre 2022</th>\n",
       "      <td>8,9%</td>\n",
       "      <td>5,3%</td>\n",
       "      <td>-0,7%</td>\n",
       "    </tr>\n",
       "    <tr>\n",
       "      <th>Agosto 2022</th>\n",
       "      <td>10,5%</td>\n",
       "      <td>6,1%</td>\n",
       "      <td>0,3%</td>\n",
       "    </tr>\n",
       "    <tr>\n",
       "      <th>Julio 2022</th>\n",
       "      <td>10,8%</td>\n",
       "      <td>5,8%</td>\n",
       "      <td>-0,3%</td>\n",
       "    </tr>\n",
       "    <tr>\n",
       "      <th>Junio 2022</th>\n",
       "      <td>10,2%</td>\n",
       "      <td>6,1%</td>\n",
       "      <td>1,9%</td>\n",
       "    </tr>\n",
       "    <tr>\n",
       "      <th>Mayo 2022</th>\n",
       "      <td>8,7%</td>\n",
       "      <td>4,1%</td>\n",
       "      <td>0,8%</td>\n",
       "    </tr>\n",
       "    <tr>\n",
       "      <th>Abril 2022</th>\n",
       "      <td>8,3%</td>\n",
       "      <td>3,3%</td>\n",
       "      <td>-0,2%</td>\n",
       "    </tr>\n",
       "    <tr>\n",
       "      <th>Marzo 2022</th>\n",
       "      <td>9,8%</td>\n",
       "      <td>3,5%</td>\n",
       "      <td>3,0%</td>\n",
       "    </tr>\n",
       "    <tr>\n",
       "      <th>Febrero 2022</th>\n",
       "      <td>7,6%</td>\n",
       "      <td>0,4%</td>\n",
       "      <td>0,8%</td>\n",
       "    </tr>\n",
       "    <tr>\n",
       "      <th>Enero 2022</th>\n",
       "      <td>6,1%</td>\n",
       "      <td>-0,4%</td>\n",
       "      <td>-0,4%</td>\n",
       "    </tr>\n",
       "    <tr>\n",
       "      <th>Diciembre 2021</th>\n",
       "      <td>6,5%</td>\n",
       "      <td>6,5%</td>\n",
       "      <td>1,2%</td>\n",
       "    </tr>\n",
       "    <tr>\n",
       "      <th>Noviembre 2021</th>\n",
       "      <td>5,5%</td>\n",
       "      <td>5,3%</td>\n",
       "      <td>0,3%</td>\n",
       "    </tr>\n",
       "    <tr>\n",
       "      <th>Octubre 2021</th>\n",
       "      <td>5,4%</td>\n",
       "      <td>5,0%</td>\n",
       "      <td>1,8%</td>\n",
       "    </tr>\n",
       "  </tbody>\n",
       "</table>\n",
       "</div>"
      ],
      "text/plain": [
       "                Interanual Acum.desde Enero Variacion Mensual\n",
       "Octubre 2022          7,3%             5,6%              0,4%\n",
       "Septiembre 2022       8,9%             5,3%             -0,7%\n",
       "Agosto 2022          10,5%             6,1%              0,3%\n",
       "Julio 2022           10,8%             5,8%             -0,3%\n",
       "Junio 2022           10,2%             6,1%              1,9%\n",
       "Mayo 2022             8,7%             4,1%              0,8%\n",
       "Abril 2022            8,3%             3,3%             -0,2%\n",
       "Marzo 2022            9,8%             3,5%              3,0%\n",
       "Febrero 2022          7,6%             0,4%              0,8%\n",
       "Enero 2022            6,1%            -0,4%             -0,4%\n",
       "Diciembre 2021        6,5%             6,5%              1,2%\n",
       "Noviembre 2021        5,5%             5,3%              0,3%\n",
       "Octubre 2021          5,4%             5,0%              1,8%"
      ]
     },
     "execution_count": 363,
     "metadata": {},
     "output_type": "execute_result"
    }
   ],
   "source": [
    "InflaEsp"
   ]
  },
  {
   "cell_type": "code",
   "execution_count": null,
   "id": "22aee4ff",
   "metadata": {},
   "outputs": [],
   "source": []
  },
  {
   "cell_type": "markdown",
   "id": "d6add73f",
   "metadata": {},
   "source": [
    "### Inflacion España Decada"
   ]
  },
  {
   "cell_type": "code",
   "execution_count": 83,
   "id": "6d53bbe8",
   "metadata": {},
   "outputs": [],
   "source": [
    "url='https://www.inflation.eu/es/tasas-de-inflacion/espana/inflacion-historica/ipc-inflacion-espana.aspx'\n",
    "driver= webdriver.Chrome()\n",
    "driver.get(url)"
   ]
  },
  {
   "cell_type": "code",
   "execution_count": 84,
   "id": "31ee9110",
   "metadata": {},
   "outputs": [],
   "source": [
    "des=driver.find_elements(By.CLASS_NAME,'tabledata1')\n",
    "des2=driver.find_elements(By.CLASS_NAME,'tabledata2')"
   ]
  },
  {
   "cell_type": "code",
   "execution_count": 85,
   "id": "e198818c",
   "metadata": {},
   "outputs": [],
   "source": [
    "desp=[i.text for i in des[0:5]]\n",
    "desp2=[i.text for i in des2[0:5]]"
   ]
  },
  {
   "cell_type": "code",
   "execution_count": 86,
   "id": "cef7364d",
   "metadata": {},
   "outputs": [],
   "source": [
    "combdesp= [i.strip().split('   ') for a in zip(desp, desp2)for i in a]"
   ]
  },
  {
   "cell_type": "code",
   "execution_count": 87,
   "id": "5770e804",
   "metadata": {},
   "outputs": [
    {
     "data": {
      "text/plain": [
       "['IPC España 2021 6,55 %',\n",
       " 'IPC España 2020 -0,53 %',\n",
       " 'IPC España 2019 0,79 %',\n",
       " 'IPC España 2018 1,18 %',\n",
       " 'IPC España 2017 1,11 %',\n",
       " 'IPC España 2016 1,57 %',\n",
       " 'IPC España 2015 0,02 %',\n",
       " 'IPC España 2014 -1,04 %',\n",
       " 'IPC España 2013 0,25 %',\n",
       " 'IPC España 2012 2,87 %',\n",
       " 'IPC España 2011 2,38 %']"
      ]
     },
     "execution_count": 87,
     "metadata": {},
     "output_type": "execute_result"
    }
   ],
   "source": [
    "combdesp1= [i for a in combdesp for i in a]\n",
    "combdesp1.sort(reverse=True)\n",
    "lista=combdesp1[0:11]\n",
    "lista"
   ]
  },
  {
   "cell_type": "code",
   "execution_count": 247,
   "id": "6dcbca19",
   "metadata": {},
   "outputs": [],
   "source": [
    "l=[i for a in lista for i in a.split(' ')]\n",
    "pais=l[1::5]\n",
    "ano=l[2::5]\n",
    "cant=l[3::5]"
   ]
  },
  {
   "cell_type": "code",
   "execution_count": 255,
   "id": "0523493b",
   "metadata": {},
   "outputs": [
    {
     "data": {
      "text/plain": [
       "[6.55, -0.53, 0.79, 1.18, 1.11, 1.57, 0.02, -1.04, 0.25, 2.87, 2.38]"
      ]
     },
     "execution_count": 255,
     "metadata": {},
     "output_type": "execute_result"
    }
   ],
   "source": [
    "a= [re.sub(',', '.', i) for i in cant]\n",
    "c=[float(i) for i in a]\n",
    "c"
   ]
  },
  {
   "cell_type": "code",
   "execution_count": 256,
   "id": "f079fc42",
   "metadata": {},
   "outputs": [],
   "source": [
    "dicto={\n",
    "      'InflacionEspaña':c}"
   ]
  },
  {
   "cell_type": "code",
   "execution_count": 257,
   "id": "a0457075",
   "metadata": {},
   "outputs": [
    {
     "data": {
      "text/html": [
       "<div>\n",
       "<style scoped>\n",
       "    .dataframe tbody tr th:only-of-type {\n",
       "        vertical-align: middle;\n",
       "    }\n",
       "\n",
       "    .dataframe tbody tr th {\n",
       "        vertical-align: top;\n",
       "    }\n",
       "\n",
       "    .dataframe thead th {\n",
       "        text-align: right;\n",
       "    }\n",
       "</style>\n",
       "<table border=\"1\" class=\"dataframe\">\n",
       "  <thead>\n",
       "    <tr style=\"text-align: right;\">\n",
       "      <th></th>\n",
       "      <th>InflacionEspaña</th>\n",
       "    </tr>\n",
       "  </thead>\n",
       "  <tbody>\n",
       "    <tr>\n",
       "      <th>2021</th>\n",
       "      <td>6.55</td>\n",
       "    </tr>\n",
       "    <tr>\n",
       "      <th>2020</th>\n",
       "      <td>-0.53</td>\n",
       "    </tr>\n",
       "    <tr>\n",
       "      <th>2019</th>\n",
       "      <td>0.79</td>\n",
       "    </tr>\n",
       "    <tr>\n",
       "      <th>2018</th>\n",
       "      <td>1.18</td>\n",
       "    </tr>\n",
       "    <tr>\n",
       "      <th>2017</th>\n",
       "      <td>1.11</td>\n",
       "    </tr>\n",
       "    <tr>\n",
       "      <th>2016</th>\n",
       "      <td>1.57</td>\n",
       "    </tr>\n",
       "    <tr>\n",
       "      <th>2015</th>\n",
       "      <td>0.02</td>\n",
       "    </tr>\n",
       "    <tr>\n",
       "      <th>2014</th>\n",
       "      <td>-1.04</td>\n",
       "    </tr>\n",
       "    <tr>\n",
       "      <th>2013</th>\n",
       "      <td>0.25</td>\n",
       "    </tr>\n",
       "    <tr>\n",
       "      <th>2012</th>\n",
       "      <td>2.87</td>\n",
       "    </tr>\n",
       "    <tr>\n",
       "      <th>2011</th>\n",
       "      <td>2.38</td>\n",
       "    </tr>\n",
       "  </tbody>\n",
       "</table>\n",
       "</div>"
      ],
      "text/plain": [
       "      InflacionEspaña\n",
       "2021             6.55\n",
       "2020            -0.53\n",
       "2019             0.79\n",
       "2018             1.18\n",
       "2017             1.11\n",
       "2016             1.57\n",
       "2015             0.02\n",
       "2014            -1.04\n",
       "2013             0.25\n",
       "2012             2.87\n",
       "2011             2.38"
      ]
     },
     "execution_count": 257,
     "metadata": {},
     "output_type": "execute_result"
    }
   ],
   "source": [
    "ESP=pd.DataFrame(dicto, index=ano)\n",
    "ESP"
   ]
  },
  {
   "cell_type": "markdown",
   "id": "3f654d63",
   "metadata": {},
   "source": [
    "### Inflación Turquia Decada"
   ]
  },
  {
   "cell_type": "code",
   "execution_count": 146,
   "id": "1e74daaf",
   "metadata": {},
   "outputs": [],
   "source": [
    "URL_TURK= 'https://www.inflation.eu/es/tasas-de-inflacion/turquia/inflacion-historica/ipc-inflacion-turquia.aspx'\n",
    "driver=webdriver.Chrome()\n",
    "driver.get(URL_TURK)"
   ]
  },
  {
   "cell_type": "code",
   "execution_count": 147,
   "id": "c8d1c66e",
   "metadata": {},
   "outputs": [],
   "source": [
    "IPC_TRU1= driver.find_elements(By.CLASS_NAME, 'tabledata1')\n",
    "IPC_TRU2= driver.find_elements(By.CLASS_NAME, 'tabledata2')"
   ]
  },
  {
   "cell_type": "code",
   "execution_count": 148,
   "id": "17ac2197",
   "metadata": {},
   "outputs": [],
   "source": [
    "dtur=[i.text for i in IPC_TRU1[0:5]]\n",
    "dtu=[i.text for i in IPC_TRU2[0:5]]"
   ]
  },
  {
   "cell_type": "code",
   "execution_count": 171,
   "id": "c0e65e9a",
   "metadata": {},
   "outputs": [],
   "source": [
    "combd= [i.strip().split('   ') for a in zip(dtur, dtu)for i in a]"
   ]
  },
  {
   "cell_type": "code",
   "execution_count": 172,
   "id": "455865be",
   "metadata": {},
   "outputs": [
    {
     "data": {
      "text/plain": [
       "['IPC Turquía 2021 36,08 %',\n",
       " 'IPC Turquía 2020 14,60 %',\n",
       " 'IPC Turquía 2019 11,84 %',\n",
       " 'IPC Turquía 2018 20,30 %',\n",
       " 'IPC Turquía 2017 11,92 %',\n",
       " 'IPC Turquía 2016 8,53 %',\n",
       " 'IPC Turquía 2015 8,81 %',\n",
       " 'IPC Turquía 2014 8,17 %',\n",
       " 'IPC Turquía 2013 7,40 %',\n",
       " 'IPC Turquía 2012 6,16 %',\n",
       " 'IPC Turquía 2011 10,45 %']"
      ]
     },
     "execution_count": 172,
     "metadata": {},
     "output_type": "execute_result"
    }
   ],
   "source": [
    "combtur2= [i for a in combd for i in a]\n",
    "combtur2.sort(reverse=True)\n",
    "lista2=combtur2[0:11]\n",
    "lista2"
   ]
  },
  {
   "cell_type": "code",
   "execution_count": 258,
   "id": "3cc635bf",
   "metadata": {},
   "outputs": [],
   "source": [
    "t=[i for a in lista2 for i in a.split(' ')]\n",
    "pais2=t[1::5]\n",
    "ano2=t[2::5]\n",
    "infla=t[3::5]"
   ]
  },
  {
   "cell_type": "code",
   "execution_count": 259,
   "id": "05d5e57e",
   "metadata": {},
   "outputs": [],
   "source": [
    "b= [re.sub(',', '.', i) for i in infla]\n",
    "d=[float(i) for i in b]"
   ]
  },
  {
   "cell_type": "code",
   "execution_count": 290,
   "id": "aac84ef8",
   "metadata": {},
   "outputs": [],
   "source": [
    "dic2={\n",
    "     'InflacionTurquia':d}"
   ]
  },
  {
   "cell_type": "code",
   "execution_count": 261,
   "id": "52ef3510",
   "metadata": {},
   "outputs": [
    {
     "data": {
      "text/html": [
       "<div>\n",
       "<style scoped>\n",
       "    .dataframe tbody tr th:only-of-type {\n",
       "        vertical-align: middle;\n",
       "    }\n",
       "\n",
       "    .dataframe tbody tr th {\n",
       "        vertical-align: top;\n",
       "    }\n",
       "\n",
       "    .dataframe thead th {\n",
       "        text-align: right;\n",
       "    }\n",
       "</style>\n",
       "<table border=\"1\" class=\"dataframe\">\n",
       "  <thead>\n",
       "    <tr style=\"text-align: right;\">\n",
       "      <th></th>\n",
       "      <th>InflaciónTurquia</th>\n",
       "    </tr>\n",
       "  </thead>\n",
       "  <tbody>\n",
       "    <tr>\n",
       "      <th>2021</th>\n",
       "      <td>36.08</td>\n",
       "    </tr>\n",
       "    <tr>\n",
       "      <th>2020</th>\n",
       "      <td>14.60</td>\n",
       "    </tr>\n",
       "    <tr>\n",
       "      <th>2019</th>\n",
       "      <td>11.84</td>\n",
       "    </tr>\n",
       "    <tr>\n",
       "      <th>2018</th>\n",
       "      <td>20.30</td>\n",
       "    </tr>\n",
       "    <tr>\n",
       "      <th>2017</th>\n",
       "      <td>11.92</td>\n",
       "    </tr>\n",
       "    <tr>\n",
       "      <th>2016</th>\n",
       "      <td>8.53</td>\n",
       "    </tr>\n",
       "    <tr>\n",
       "      <th>2015</th>\n",
       "      <td>8.81</td>\n",
       "    </tr>\n",
       "    <tr>\n",
       "      <th>2014</th>\n",
       "      <td>8.17</td>\n",
       "    </tr>\n",
       "    <tr>\n",
       "      <th>2013</th>\n",
       "      <td>7.40</td>\n",
       "    </tr>\n",
       "    <tr>\n",
       "      <th>2012</th>\n",
       "      <td>6.16</td>\n",
       "    </tr>\n",
       "    <tr>\n",
       "      <th>2011</th>\n",
       "      <td>10.45</td>\n",
       "    </tr>\n",
       "  </tbody>\n",
       "</table>\n",
       "</div>"
      ],
      "text/plain": [
       "      InflaciónTurquia\n",
       "2021             36.08\n",
       "2020             14.60\n",
       "2019             11.84\n",
       "2018             20.30\n",
       "2017             11.92\n",
       "2016              8.53\n",
       "2015              8.81\n",
       "2014              8.17\n",
       "2013              7.40\n",
       "2012              6.16\n",
       "2011             10.45"
      ]
     },
     "execution_count": 261,
     "metadata": {},
     "output_type": "execute_result"
    }
   ],
   "source": [
    "TUR=pd.DataFrame(dic2, index= ano2)\n",
    "TUR"
   ]
  },
  {
   "cell_type": "markdown",
   "id": "3324c5c3",
   "metadata": {},
   "source": [
    "### API para EURO"
   ]
  },
  {
   "cell_type": "code",
   "execution_count": 14,
   "id": "4121c89f",
   "metadata": {},
   "outputs": [],
   "source": [
    "url11='https://api.currencyapi.com/v3/historical?apikey=s8J7BWV3udmkRvOfDPHg3OBBpvSrC7tisccJTX5w&currencies=TRY&base_currency=EUR&date=2011-01-01'\n",
    "url12='https://api.currencyapi.com/v3/historical?apikey=s8J7BWV3udmkRvOfDPHg3OBBpvSrC7tisccJTX5w&currencies=TRY&base_currency=EUR&date=2012-01-01'\n",
    "url13='https://api.currencyapi.com/v3/historical?apikey=s8J7BWV3udmkRvOfDPHg3OBBpvSrC7tisccJTX5w&currencies=TRY&base_currency=EUR&date=2013-01-01'\n",
    "url14='https://api.currencyapi.com/v3/historical?apikey=s8J7BWV3udmkRvOfDPHg3OBBpvSrC7tisccJTX5w&currencies=TRY&base_currency=EUR&date=2014-01-01'\n",
    "url15='https://api.currencyapi.com/v3/historical?apikey=s8J7BWV3udmkRvOfDPHg3OBBpvSrC7tisccJTX5w&currencies=TRY&base_currency=EUR&date=2015-01-01'\n",
    "url16='https://api.currencyapi.com/v3/historical?apikey=s8J7BWV3udmkRvOfDPHg3OBBpvSrC7tisccJTX5w&currencies=TRY&base_currency=EUR&date=2016-01-01'\n",
    "url17='https://api.currencyapi.com/v3/historical?apikey=s8J7BWV3udmkRvOfDPHg3OBBpvSrC7tisccJTX5w&currencies=TRY&base_currency=EUR&date=2017-01-01'\n",
    "url18='https://api.currencyapi.com/v3/historical?apikey=s8J7BWV3udmkRvOfDPHg3OBBpvSrC7tisccJTX5w&currencies=TRY&base_currency=EUR&date=2018-01-01'\n",
    "url19='https://api.currencyapi.com/v3/historical?apikey=s8J7BWV3udmkRvOfDPHg3OBBpvSrC7tisccJTX5w&currencies=TRY&base_currency=EUR&date=2019-01-01'\n",
    "url20='https://api.currencyapi.com/v3/historical?apikey=s8J7BWV3udmkRvOfDPHg3OBBpvSrC7tisccJTX5w&currencies=TRY&base_currency=EUR&date=2020-01-01'\n",
    "url21='https://api.currencyapi.com/v3/historical?apikey=s8J7BWV3udmkRvOfDPHg3OBBpvSrC7tisccJTX5w&currencies=TRY&base_currency=EUR&date=2021-01-01'"
   ]
  },
  {
   "cell_type": "code",
   "execution_count": 15,
   "id": "c3e0621a",
   "metadata": {},
   "outputs": [],
   "source": [
    "res11=rq.get(url11).json()\n",
    "res12=rq.get(url12).json()\n",
    "res13=rq.get(url13).json()\n",
    "res14=rq.get(url14).json()\n",
    "res15=rq.get(url15).json()\n",
    "res16=rq.get(url16).json()\n",
    "res17=rq.get(url17).json()\n",
    "res18=rq.get(url18).json()\n",
    "res19=rq.get(url19).json()\n",
    "res20=rq.get(url20).json()\n",
    "res21=rq.get(url21).json()"
   ]
  },
  {
   "cell_type": "code",
   "execution_count": 16,
   "id": "cb390745",
   "metadata": {},
   "outputs": [],
   "source": [
    "EUR_VS_TURK_11=res11['data']['TRY']\n",
    "EUR_VS_TURK_12=res12['data']['TRY']\n",
    "EUR_VS_TURK_13=res13['data']['TRY']\n",
    "EUR_VS_TURK_14=res14['data']['TRY']\n",
    "EUR_VS_TURK_15=res15['data']['TRY']\n",
    "EUR_VS_TURK_16=res16['data']['TRY']\n",
    "EUR_VS_TURK_17=res17['data']['TRY']\n",
    "EUR_VS_TURK_18=res18['data']['TRY']\n",
    "EUR_VS_TURK_19=res19['data']['TRY']\n",
    "EUR_VS_TURK_20=res20['data']['TRY']\n",
    "EUR_VS_TURK_21=res21['data']['TRY']"
   ]
  },
  {
   "cell_type": "code",
   "execution_count": 21,
   "id": "378aecd0",
   "metadata": {},
   "outputs": [],
   "source": [
    "turk_currency_2021_2011=EUR_VS_TURK_21['value'],EUR_VS_TURK_20['value'],EUR_VS_TURK_19['value'],EUR_VS_TURK_18['value'],EUR_VS_TURK_17['value'],EUR_VS_TURK_16['value'],EUR_VS_TURK_15['value'],EUR_VS_TURK_14['value'],EUR_VS_TURK_13['value'],EUR_VS_TURK_12['value'],EUR_VS_TURK_11['value']"
   ]
  },
  {
   "cell_type": "code",
   "execution_count": 26,
   "id": "811f3d9f",
   "metadata": {},
   "outputs": [],
   "source": [
    "writelstcsv([str(i) for i in turk_currency_2021_2011],'Currency.csv')"
   ]
  },
  {
   "cell_type": "code",
   "execution_count": 23,
   "id": "8ea46aa4",
   "metadata": {},
   "outputs": [
    {
     "data": {
      "text/plain": [
       "['9.055228',\n",
       " '6.671838',\n",
       " '6.062554',\n",
       " '4.556361',\n",
       " '3.724482',\n",
       " '3.167202',\n",
       " '2.822841',\n",
       " '2.950645',\n",
       " '2.356776',\n",
       " '2.446434',\n",
       " '2.061718']"
      ]
     },
     "execution_count": 23,
     "metadata": {},
     "output_type": "execute_result"
    }
   ],
   "source": [
    "lst=[]\n",
    "opencsv('Currency.csv',lst)"
   ]
  },
  {
   "cell_type": "code",
   "execution_count": 24,
   "id": "c4ceeb29",
   "metadata": {},
   "outputs": [
    {
     "data": {
      "text/plain": [
       "['0.110433',\n",
       " '0.149884',\n",
       " '0.164947',\n",
       " '0.219473',\n",
       " '0.268494',\n",
       " '0.315736',\n",
       " '0.354253',\n",
       " '0.338909',\n",
       " '0.424308',\n",
       " '0.408758',\n",
       " '0.485032']"
      ]
     },
     "execution_count": 24,
     "metadata": {},
     "output_type": "execute_result"
    }
   ],
   "source": [
    "lst2=[]\n",
    "opencsv('eu_try_currency.csv',lst2)"
   ]
  },
  {
   "cell_type": "code",
   "execution_count": 224,
   "id": "5d86ed12",
   "metadata": {},
   "outputs": [],
   "source": [
    "dic={'Euro':lst2,\n",
    "    'Try':lst}\n",
    "inde=[2021,2020,2019,2018,2017,2016,2015,2014,2013,2012,2011]"
   ]
  },
  {
   "cell_type": "code",
   "execution_count": 225,
   "id": "c08388bd",
   "metadata": {},
   "outputs": [
    {
     "data": {
      "text/html": [
       "<div>\n",
       "<style scoped>\n",
       "    .dataframe tbody tr th:only-of-type {\n",
       "        vertical-align: middle;\n",
       "    }\n",
       "\n",
       "    .dataframe tbody tr th {\n",
       "        vertical-align: top;\n",
       "    }\n",
       "\n",
       "    .dataframe thead th {\n",
       "        text-align: right;\n",
       "    }\n",
       "</style>\n",
       "<table border=\"1\" class=\"dataframe\">\n",
       "  <thead>\n",
       "    <tr style=\"text-align: right;\">\n",
       "      <th></th>\n",
       "      <th>Euro</th>\n",
       "      <th>Try</th>\n",
       "    </tr>\n",
       "  </thead>\n",
       "  <tbody>\n",
       "    <tr>\n",
       "      <th>2021</th>\n",
       "      <td>0.110433</td>\n",
       "      <td>9.055228</td>\n",
       "    </tr>\n",
       "    <tr>\n",
       "      <th>2020</th>\n",
       "      <td>0.149884</td>\n",
       "      <td>6.671838</td>\n",
       "    </tr>\n",
       "    <tr>\n",
       "      <th>2019</th>\n",
       "      <td>0.164947</td>\n",
       "      <td>6.062554</td>\n",
       "    </tr>\n",
       "    <tr>\n",
       "      <th>2018</th>\n",
       "      <td>0.219473</td>\n",
       "      <td>4.556361</td>\n",
       "    </tr>\n",
       "    <tr>\n",
       "      <th>2017</th>\n",
       "      <td>0.268494</td>\n",
       "      <td>3.724482</td>\n",
       "    </tr>\n",
       "    <tr>\n",
       "      <th>2016</th>\n",
       "      <td>0.315736</td>\n",
       "      <td>3.167202</td>\n",
       "    </tr>\n",
       "    <tr>\n",
       "      <th>2015</th>\n",
       "      <td>0.354253</td>\n",
       "      <td>2.822841</td>\n",
       "    </tr>\n",
       "    <tr>\n",
       "      <th>2014</th>\n",
       "      <td>0.338909</td>\n",
       "      <td>2.950645</td>\n",
       "    </tr>\n",
       "    <tr>\n",
       "      <th>2013</th>\n",
       "      <td>0.424308</td>\n",
       "      <td>2.356776</td>\n",
       "    </tr>\n",
       "    <tr>\n",
       "      <th>2012</th>\n",
       "      <td>0.408758</td>\n",
       "      <td>2.446434</td>\n",
       "    </tr>\n",
       "    <tr>\n",
       "      <th>2011</th>\n",
       "      <td>0.485032</td>\n",
       "      <td>2.061718</td>\n",
       "    </tr>\n",
       "  </tbody>\n",
       "</table>\n",
       "</div>"
      ],
      "text/plain": [
       "          Euro       Try\n",
       "2021  0.110433  9.055228\n",
       "2020  0.149884  6.671838\n",
       "2019  0.164947  6.062554\n",
       "2018  0.219473  4.556361\n",
       "2017  0.268494  3.724482\n",
       "2016  0.315736  3.167202\n",
       "2015  0.354253  2.822841\n",
       "2014  0.338909  2.950645\n",
       "2013  0.424308  2.356776\n",
       "2012  0.408758  2.446434\n",
       "2011  0.485032  2.061718"
      ]
     },
     "execution_count": 225,
     "metadata": {},
     "output_type": "execute_result"
    }
   ],
   "source": [
    "API=pd.DataFrame(dic, index=inde)\n",
    "API"
   ]
  },
  {
   "cell_type": "markdown",
   "id": "3b04cf94",
   "metadata": {},
   "source": [
    "### Wiki Index Democatrico"
   ]
  },
  {
   "cell_type": "code",
   "execution_count": 226,
   "id": "48a78790",
   "metadata": {},
   "outputs": [],
   "source": [
    "url='https://en.wikipedia.org/wiki/Democracy_Index'\n",
    "driver= webdriver.Chrome()\n",
    "driver.get(url)"
   ]
  },
  {
   "cell_type": "code",
   "execution_count": 227,
   "id": "ed49a891",
   "metadata": {},
   "outputs": [],
   "source": [
    "wies=driver.find_elements(By.TAG_NAME,'tr')[51].text.split()\n",
    "witur=driver.find_elements(By.TAG_NAME,'tr')[54].text.split()"
   ]
  },
  {
   "cell_type": "code",
   "execution_count": 228,
   "id": "fba4f015",
   "metadata": {},
   "outputs": [],
   "source": [
    "esp_index_demo=wies[4:15]\n",
    "turk_index_demo=witur[4:15]"
   ]
  },
  {
   "cell_type": "code",
   "execution_count": 238,
   "id": "492742df",
   "metadata": {},
   "outputs": [],
   "source": [
    "dic3={'DemoEspaña':esp_index_demo,\n",
    "    'DemoTurquia':turk_index_demo}\n",
    "inde=[2021,2020,2019,2018,2017,2016,2015,2014,2013,2012,2011]"
   ]
  },
  {
   "cell_type": "code",
   "execution_count": 239,
   "id": "e641bf2c",
   "metadata": {},
   "outputs": [],
   "source": [
    "Democ=pd.DataFrame(dic3, index=inde)"
   ]
  },
  {
   "cell_type": "code",
   "execution_count": 240,
   "id": "687f9b18",
   "metadata": {},
   "outputs": [
    {
     "data": {
      "text/html": [
       "<div>\n",
       "<style scoped>\n",
       "    .dataframe tbody tr th:only-of-type {\n",
       "        vertical-align: middle;\n",
       "    }\n",
       "\n",
       "    .dataframe tbody tr th {\n",
       "        vertical-align: top;\n",
       "    }\n",
       "\n",
       "    .dataframe thead th {\n",
       "        text-align: right;\n",
       "    }\n",
       "</style>\n",
       "<table border=\"1\" class=\"dataframe\">\n",
       "  <thead>\n",
       "    <tr style=\"text-align: right;\">\n",
       "      <th></th>\n",
       "      <th>DemoEspaña</th>\n",
       "      <th>DemoTurquia</th>\n",
       "    </tr>\n",
       "  </thead>\n",
       "  <tbody>\n",
       "    <tr>\n",
       "      <th>2021</th>\n",
       "      <td>7.94</td>\n",
       "      <td>4.35</td>\n",
       "    </tr>\n",
       "    <tr>\n",
       "      <th>2020</th>\n",
       "      <td>8.12</td>\n",
       "      <td>4.48</td>\n",
       "    </tr>\n",
       "    <tr>\n",
       "      <th>2019</th>\n",
       "      <td>8.29</td>\n",
       "      <td>4.09</td>\n",
       "    </tr>\n",
       "    <tr>\n",
       "      <th>2018</th>\n",
       "      <td>8.08</td>\n",
       "      <td>4.37</td>\n",
       "    </tr>\n",
       "    <tr>\n",
       "      <th>2017</th>\n",
       "      <td>8.08</td>\n",
       "      <td>4.88</td>\n",
       "    </tr>\n",
       "    <tr>\n",
       "      <th>2016</th>\n",
       "      <td>8.30</td>\n",
       "      <td>5.04</td>\n",
       "    </tr>\n",
       "    <tr>\n",
       "      <th>2015</th>\n",
       "      <td>8.30</td>\n",
       "      <td>5.12</td>\n",
       "    </tr>\n",
       "    <tr>\n",
       "      <th>2014</th>\n",
       "      <td>8.05</td>\n",
       "      <td>5.12</td>\n",
       "    </tr>\n",
       "    <tr>\n",
       "      <th>2013</th>\n",
       "      <td>8.02</td>\n",
       "      <td>5.63</td>\n",
       "    </tr>\n",
       "    <tr>\n",
       "      <th>2012</th>\n",
       "      <td>8.02</td>\n",
       "      <td>5.76</td>\n",
       "    </tr>\n",
       "    <tr>\n",
       "      <th>2011</th>\n",
       "      <td>8.02</td>\n",
       "      <td>5.73</td>\n",
       "    </tr>\n",
       "  </tbody>\n",
       "</table>\n",
       "</div>"
      ],
      "text/plain": [
       "     DemoEspaña DemoTurquia\n",
       "2021       7.94        4.35\n",
       "2020       8.12        4.48\n",
       "2019       8.29        4.09\n",
       "2018       8.08        4.37\n",
       "2017       8.08        4.88\n",
       "2016       8.30        5.04\n",
       "2015       8.30        5.12\n",
       "2014       8.05        5.12\n",
       "2013       8.02        5.63\n",
       "2012       8.02        5.76\n",
       "2011       8.02        5.73"
      ]
     },
     "execution_count": 240,
     "metadata": {},
     "output_type": "execute_result"
    }
   ],
   "source": [
    "Democ"
   ]
  },
  {
   "cell_type": "code",
   "execution_count": null,
   "id": "51afac2b",
   "metadata": {},
   "outputs": [],
   "source": []
  },
  {
   "cell_type": "markdown",
   "id": "1d09901f",
   "metadata": {},
   "source": [
    "## Juntamos los Datos en un único DATAFRAME"
   ]
  },
  {
   "cell_type": "code",
   "execution_count": 320,
   "id": "ac28d5bd",
   "metadata": {},
   "outputs": [
    {
     "data": {
      "text/html": [
       "<div>\n",
       "<style scoped>\n",
       "    .dataframe tbody tr th:only-of-type {\n",
       "        vertical-align: middle;\n",
       "    }\n",
       "\n",
       "    .dataframe tbody tr th {\n",
       "        vertical-align: top;\n",
       "    }\n",
       "\n",
       "    .dataframe thead th {\n",
       "        text-align: right;\n",
       "    }\n",
       "</style>\n",
       "<table border=\"1\" class=\"dataframe\">\n",
       "  <thead>\n",
       "    <tr style=\"text-align: right;\">\n",
       "      <th></th>\n",
       "      <th>Euro</th>\n",
       "      <th>DemoEspaña</th>\n",
       "      <th>Try</th>\n",
       "      <th>DemoTurquia</th>\n",
       "    </tr>\n",
       "  </thead>\n",
       "  <tbody>\n",
       "    <tr>\n",
       "      <th>2021</th>\n",
       "      <td>0.110433</td>\n",
       "      <td>7.94</td>\n",
       "      <td>9.055228</td>\n",
       "      <td>4.35</td>\n",
       "    </tr>\n",
       "    <tr>\n",
       "      <th>2020</th>\n",
       "      <td>0.149884</td>\n",
       "      <td>8.12</td>\n",
       "      <td>6.671838</td>\n",
       "      <td>4.48</td>\n",
       "    </tr>\n",
       "    <tr>\n",
       "      <th>2019</th>\n",
       "      <td>0.164947</td>\n",
       "      <td>8.29</td>\n",
       "      <td>6.062554</td>\n",
       "      <td>4.09</td>\n",
       "    </tr>\n",
       "    <tr>\n",
       "      <th>2018</th>\n",
       "      <td>0.219473</td>\n",
       "      <td>8.08</td>\n",
       "      <td>4.556361</td>\n",
       "      <td>4.37</td>\n",
       "    </tr>\n",
       "    <tr>\n",
       "      <th>2017</th>\n",
       "      <td>0.268494</td>\n",
       "      <td>8.08</td>\n",
       "      <td>3.724482</td>\n",
       "      <td>4.88</td>\n",
       "    </tr>\n",
       "    <tr>\n",
       "      <th>2016</th>\n",
       "      <td>0.315736</td>\n",
       "      <td>8.30</td>\n",
       "      <td>3.167202</td>\n",
       "      <td>5.04</td>\n",
       "    </tr>\n",
       "    <tr>\n",
       "      <th>2015</th>\n",
       "      <td>0.354253</td>\n",
       "      <td>8.30</td>\n",
       "      <td>2.822841</td>\n",
       "      <td>5.12</td>\n",
       "    </tr>\n",
       "    <tr>\n",
       "      <th>2014</th>\n",
       "      <td>0.338909</td>\n",
       "      <td>8.05</td>\n",
       "      <td>2.950645</td>\n",
       "      <td>5.12</td>\n",
       "    </tr>\n",
       "    <tr>\n",
       "      <th>2013</th>\n",
       "      <td>0.424308</td>\n",
       "      <td>8.02</td>\n",
       "      <td>2.356776</td>\n",
       "      <td>5.63</td>\n",
       "    </tr>\n",
       "    <tr>\n",
       "      <th>2012</th>\n",
       "      <td>0.408758</td>\n",
       "      <td>8.02</td>\n",
       "      <td>2.446434</td>\n",
       "      <td>5.76</td>\n",
       "    </tr>\n",
       "    <tr>\n",
       "      <th>2011</th>\n",
       "      <td>0.485032</td>\n",
       "      <td>8.02</td>\n",
       "      <td>2.061718</td>\n",
       "      <td>5.73</td>\n",
       "    </tr>\n",
       "  </tbody>\n",
       "</table>\n",
       "</div>"
      ],
      "text/plain": [
       "          Euro DemoEspaña       Try DemoTurquia\n",
       "2021  0.110433       7.94  9.055228        4.35\n",
       "2020  0.149884       8.12  6.671838        4.48\n",
       "2019  0.164947       8.29  6.062554        4.09\n",
       "2018  0.219473       8.08  4.556361        4.37\n",
       "2017  0.268494       8.08  3.724482        4.88\n",
       "2016  0.315736       8.30  3.167202        5.04\n",
       "2015  0.354253       8.30  2.822841        5.12\n",
       "2014  0.338909       8.05  2.950645        5.12\n",
       "2013  0.424308       8.02  2.356776        5.63\n",
       "2012  0.408758       8.02  2.446434        5.76\n",
       "2011  0.485032       8.02  2.061718        5.73"
      ]
     },
     "execution_count": 320,
     "metadata": {},
     "output_type": "execute_result"
    }
   ],
   "source": [
    "Datafi=pd.merge(left=API,right=Democ,how='inner',left_index= True, right_index=True)\n",
    "Datafiord= Datafi.iloc[:, [0,2,1,3]]\n",
    "Datafiord"
   ]
  },
  {
   "cell_type": "code",
   "execution_count": 323,
   "id": "ceeeba1b",
   "metadata": {},
   "outputs": [
    {
     "data": {
      "text/html": [
       "<div>\n",
       "<style scoped>\n",
       "    .dataframe tbody tr th:only-of-type {\n",
       "        vertical-align: middle;\n",
       "    }\n",
       "\n",
       "    .dataframe tbody tr th {\n",
       "        vertical-align: top;\n",
       "    }\n",
       "\n",
       "    .dataframe thead th {\n",
       "        text-align: right;\n",
       "    }\n",
       "</style>\n",
       "<table border=\"1\" class=\"dataframe\">\n",
       "  <thead>\n",
       "    <tr style=\"text-align: right;\">\n",
       "      <th></th>\n",
       "      <th>InflaciónTurquia</th>\n",
       "      <th>InflacionEspaña</th>\n",
       "    </tr>\n",
       "  </thead>\n",
       "  <tbody>\n",
       "    <tr>\n",
       "      <th>2021</th>\n",
       "      <td>36.08</td>\n",
       "      <td>6.55</td>\n",
       "    </tr>\n",
       "    <tr>\n",
       "      <th>2020</th>\n",
       "      <td>14.60</td>\n",
       "      <td>-0.53</td>\n",
       "    </tr>\n",
       "    <tr>\n",
       "      <th>2019</th>\n",
       "      <td>11.84</td>\n",
       "      <td>0.79</td>\n",
       "    </tr>\n",
       "    <tr>\n",
       "      <th>2018</th>\n",
       "      <td>20.30</td>\n",
       "      <td>1.18</td>\n",
       "    </tr>\n",
       "    <tr>\n",
       "      <th>2017</th>\n",
       "      <td>11.92</td>\n",
       "      <td>1.11</td>\n",
       "    </tr>\n",
       "    <tr>\n",
       "      <th>2016</th>\n",
       "      <td>8.53</td>\n",
       "      <td>1.57</td>\n",
       "    </tr>\n",
       "    <tr>\n",
       "      <th>2015</th>\n",
       "      <td>8.81</td>\n",
       "      <td>0.02</td>\n",
       "    </tr>\n",
       "    <tr>\n",
       "      <th>2014</th>\n",
       "      <td>8.17</td>\n",
       "      <td>-1.04</td>\n",
       "    </tr>\n",
       "    <tr>\n",
       "      <th>2013</th>\n",
       "      <td>7.40</td>\n",
       "      <td>0.25</td>\n",
       "    </tr>\n",
       "    <tr>\n",
       "      <th>2012</th>\n",
       "      <td>6.16</td>\n",
       "      <td>2.87</td>\n",
       "    </tr>\n",
       "    <tr>\n",
       "      <th>2011</th>\n",
       "      <td>10.45</td>\n",
       "      <td>2.38</td>\n",
       "    </tr>\n",
       "  </tbody>\n",
       "</table>\n",
       "</div>"
      ],
      "text/plain": [
       "      InflaciónTurquia  InflacionEspaña\n",
       "2021             36.08             6.55\n",
       "2020             14.60            -0.53\n",
       "2019             11.84             0.79\n",
       "2018             20.30             1.18\n",
       "2017             11.92             1.11\n",
       "2016              8.53             1.57\n",
       "2015              8.81             0.02\n",
       "2014              8.17            -1.04\n",
       "2013              7.40             0.25\n",
       "2012              6.16             2.87\n",
       "2011             10.45             2.38"
      ]
     },
     "execution_count": 323,
     "metadata": {},
     "output_type": "execute_result"
    }
   ],
   "source": [
    "Datafi2=pd.merge(left=TUR,right=ESP,how='inner',left_index= True, right_index=True)\n",
    "Datafi2"
   ]
  },
  {
   "cell_type": "code",
   "execution_count": 339,
   "id": "26cc78b8",
   "metadata": {},
   "outputs": [],
   "source": [
    "Datafin=pd.merge(left=Datafiord,right=Datafi2,how='inner',left_index= True, right_index=True)"
   ]
  },
  {
   "cell_type": "markdown",
   "id": "579bcb3e",
   "metadata": {},
   "source": [
    "### Normalizamos los datos para en un futuro trabajar con las graficas"
   ]
  },
  {
   "cell_type": "code",
   "execution_count": 343,
   "id": "4bf10802",
   "metadata": {},
   "outputs": [
    {
     "data": {
      "text/html": [
       "<div>\n",
       "<style scoped>\n",
       "    .dataframe tbody tr th:only-of-type {\n",
       "        vertical-align: middle;\n",
       "    }\n",
       "\n",
       "    .dataframe tbody tr th {\n",
       "        vertical-align: top;\n",
       "    }\n",
       "\n",
       "    .dataframe thead th {\n",
       "        text-align: right;\n",
       "    }\n",
       "</style>\n",
       "<table border=\"1\" class=\"dataframe\">\n",
       "  <thead>\n",
       "    <tr style=\"text-align: right;\">\n",
       "      <th></th>\n",
       "      <th>Euro</th>\n",
       "      <th>DemoEspaña</th>\n",
       "      <th>Try</th>\n",
       "      <th>DemoTurquia</th>\n",
       "    </tr>\n",
       "  </thead>\n",
       "  <tbody>\n",
       "    <tr>\n",
       "      <th>2021</th>\n",
       "      <td>0.105077</td>\n",
       "      <td>0.295125</td>\n",
       "      <td>0.584034</td>\n",
       "      <td>0.262712</td>\n",
       "    </tr>\n",
       "    <tr>\n",
       "      <th>2020</th>\n",
       "      <td>0.142614</td>\n",
       "      <td>0.301815</td>\n",
       "      <td>0.430313</td>\n",
       "      <td>0.270563</td>\n",
       "    </tr>\n",
       "    <tr>\n",
       "      <th>2019</th>\n",
       "      <td>0.156947</td>\n",
       "      <td>0.308134</td>\n",
       "      <td>0.391016</td>\n",
       "      <td>0.247009</td>\n",
       "    </tr>\n",
       "    <tr>\n",
       "      <th>2018</th>\n",
       "      <td>0.208828</td>\n",
       "      <td>0.300328</td>\n",
       "      <td>0.293871</td>\n",
       "      <td>0.263919</td>\n",
       "    </tr>\n",
       "    <tr>\n",
       "      <th>2017</th>\n",
       "      <td>0.255472</td>\n",
       "      <td>0.300328</td>\n",
       "      <td>0.240218</td>\n",
       "      <td>0.294720</td>\n",
       "    </tr>\n",
       "    <tr>\n",
       "      <th>2016</th>\n",
       "      <td>0.300422</td>\n",
       "      <td>0.308506</td>\n",
       "      <td>0.204275</td>\n",
       "      <td>0.304383</td>\n",
       "    </tr>\n",
       "    <tr>\n",
       "      <th>2015</th>\n",
       "      <td>0.337071</td>\n",
       "      <td>0.308506</td>\n",
       "      <td>0.182064</td>\n",
       "      <td>0.309215</td>\n",
       "    </tr>\n",
       "    <tr>\n",
       "      <th>2014</th>\n",
       "      <td>0.322471</td>\n",
       "      <td>0.299213</td>\n",
       "      <td>0.190307</td>\n",
       "      <td>0.309215</td>\n",
       "    </tr>\n",
       "    <tr>\n",
       "      <th>2013</th>\n",
       "      <td>0.403728</td>\n",
       "      <td>0.298098</td>\n",
       "      <td>0.152005</td>\n",
       "      <td>0.340015</td>\n",
       "    </tr>\n",
       "    <tr>\n",
       "      <th>2012</th>\n",
       "      <td>0.388933</td>\n",
       "      <td>0.298098</td>\n",
       "      <td>0.157787</td>\n",
       "      <td>0.347866</td>\n",
       "    </tr>\n",
       "    <tr>\n",
       "      <th>2011</th>\n",
       "      <td>0.461507</td>\n",
       "      <td>0.298098</td>\n",
       "      <td>0.132974</td>\n",
       "      <td>0.346055</td>\n",
       "    </tr>\n",
       "  </tbody>\n",
       "</table>\n",
       "</div>"
      ],
      "text/plain": [
       "          Euro  DemoEspaña       Try  DemoTurquia\n",
       "2021  0.105077    0.295125  0.584034     0.262712\n",
       "2020  0.142614    0.301815  0.430313     0.270563\n",
       "2019  0.156947    0.308134  0.391016     0.247009\n",
       "2018  0.208828    0.300328  0.293871     0.263919\n",
       "2017  0.255472    0.300328  0.240218     0.294720\n",
       "2016  0.300422    0.308506  0.204275     0.304383\n",
       "2015  0.337071    0.308506  0.182064     0.309215\n",
       "2014  0.322471    0.299213  0.190307     0.309215\n",
       "2013  0.403728    0.298098  0.152005     0.340015\n",
       "2012  0.388933    0.298098  0.157787     0.347866\n",
       "2011  0.461507    0.298098  0.132974     0.346055"
      ]
     },
     "execution_count": 343,
     "metadata": {},
     "output_type": "execute_result"
    }
   ],
   "source": [
    "cronology=[i for i in range(2021,2010,-1)]\n",
    "cronology\n",
    "names= ['Euro','DemoEspaña','Try','DemoTurquia']\n",
    "d = preprocessing.normalize(Datafiord, axis=0)\n",
    "Norfi = pd.DataFrame(d, index=cronology, columns=names)\n",
    "Norfi"
   ]
  },
  {
   "cell_type": "code",
   "execution_count": 325,
   "id": "18cec1d8",
   "metadata": {},
   "outputs": [
    {
     "data": {
      "text/html": [
       "<div>\n",
       "<style scoped>\n",
       "    .dataframe tbody tr th:only-of-type {\n",
       "        vertical-align: middle;\n",
       "    }\n",
       "\n",
       "    .dataframe tbody tr th {\n",
       "        vertical-align: top;\n",
       "    }\n",
       "\n",
       "    .dataframe thead th {\n",
       "        text-align: right;\n",
       "    }\n",
       "</style>\n",
       "<table border=\"1\" class=\"dataframe\">\n",
       "  <thead>\n",
       "    <tr style=\"text-align: right;\">\n",
       "      <th></th>\n",
       "      <th>InflaciónTurquia</th>\n",
       "      <th>InflacionEspaña</th>\n",
       "    </tr>\n",
       "  </thead>\n",
       "  <tbody>\n",
       "    <tr>\n",
       "      <th>2021</th>\n",
       "      <td>0.703764</td>\n",
       "      <td>0.819117</td>\n",
       "    </tr>\n",
       "    <tr>\n",
       "      <th>2020</th>\n",
       "      <td>0.284783</td>\n",
       "      <td>-0.066280</td>\n",
       "    </tr>\n",
       "    <tr>\n",
       "      <th>2019</th>\n",
       "      <td>0.230947</td>\n",
       "      <td>0.098794</td>\n",
       "    </tr>\n",
       "    <tr>\n",
       "      <th>2018</th>\n",
       "      <td>0.395965</td>\n",
       "      <td>0.147566</td>\n",
       "    </tr>\n",
       "    <tr>\n",
       "      <th>2017</th>\n",
       "      <td>0.232507</td>\n",
       "      <td>0.138812</td>\n",
       "    </tr>\n",
       "    <tr>\n",
       "      <th>2016</th>\n",
       "      <td>0.166383</td>\n",
       "      <td>0.196338</td>\n",
       "    </tr>\n",
       "    <tr>\n",
       "      <th>2015</th>\n",
       "      <td>0.171845</td>\n",
       "      <td>0.002501</td>\n",
       "    </tr>\n",
       "    <tr>\n",
       "      <th>2014</th>\n",
       "      <td>0.159361</td>\n",
       "      <td>-0.130058</td>\n",
       "    </tr>\n",
       "    <tr>\n",
       "      <th>2013</th>\n",
       "      <td>0.144342</td>\n",
       "      <td>0.031264</td>\n",
       "    </tr>\n",
       "    <tr>\n",
       "      <th>2012</th>\n",
       "      <td>0.120155</td>\n",
       "      <td>0.358911</td>\n",
       "    </tr>\n",
       "    <tr>\n",
       "      <th>2011</th>\n",
       "      <td>0.203834</td>\n",
       "      <td>0.297633</td>\n",
       "    </tr>\n",
       "  </tbody>\n",
       "</table>\n",
       "</div>"
      ],
      "text/plain": [
       "      InflaciónTurquia  InflacionEspaña\n",
       "2021          0.703764         0.819117\n",
       "2020          0.284783        -0.066280\n",
       "2019          0.230947         0.098794\n",
       "2018          0.395965         0.147566\n",
       "2017          0.232507         0.138812\n",
       "2016          0.166383         0.196338\n",
       "2015          0.171845         0.002501\n",
       "2014          0.159361        -0.130058\n",
       "2013          0.144342         0.031264\n",
       "2012          0.120155         0.358911\n",
       "2011          0.203834         0.297633"
      ]
     },
     "execution_count": 325,
     "metadata": {},
     "output_type": "execute_result"
    }
   ],
   "source": [
    "names= ['InflaciónTurquia','InflacionEspaña']\n",
    "f = preprocessing.normalize(Datafi2, axis=0)\n",
    "Datafi2 = pd.DataFrame(f, index=cronology, columns=names)\n",
    "Datafi2"
   ]
  },
  {
   "cell_type": "code",
   "execution_count": 330,
   "id": "671baeb8",
   "metadata": {},
   "outputs": [
    {
     "data": {
      "text/html": [
       "<div>\n",
       "<style scoped>\n",
       "    .dataframe tbody tr th:only-of-type {\n",
       "        vertical-align: middle;\n",
       "    }\n",
       "\n",
       "    .dataframe tbody tr th {\n",
       "        vertical-align: top;\n",
       "    }\n",
       "\n",
       "    .dataframe thead th {\n",
       "        text-align: right;\n",
       "    }\n",
       "</style>\n",
       "<table border=\"1\" class=\"dataframe\">\n",
       "  <thead>\n",
       "    <tr style=\"text-align: right;\">\n",
       "      <th></th>\n",
       "      <th>InflaciónTurquia</th>\n",
       "      <th>InflacionEspaña</th>\n",
       "      <th>Euro</th>\n",
       "      <th>DemoEspaña</th>\n",
       "      <th>Try</th>\n",
       "      <th>DemoTurquia</th>\n",
       "    </tr>\n",
       "  </thead>\n",
       "  <tbody>\n",
       "    <tr>\n",
       "      <th>2021</th>\n",
       "      <td>0.703764</td>\n",
       "      <td>0.819117</td>\n",
       "      <td>0.105077</td>\n",
       "      <td>0.295125</td>\n",
       "      <td>0.584034</td>\n",
       "      <td>0.262712</td>\n",
       "    </tr>\n",
       "    <tr>\n",
       "      <th>2020</th>\n",
       "      <td>0.284783</td>\n",
       "      <td>-0.066280</td>\n",
       "      <td>0.142614</td>\n",
       "      <td>0.301815</td>\n",
       "      <td>0.430313</td>\n",
       "      <td>0.270563</td>\n",
       "    </tr>\n",
       "    <tr>\n",
       "      <th>2019</th>\n",
       "      <td>0.230947</td>\n",
       "      <td>0.098794</td>\n",
       "      <td>0.156947</td>\n",
       "      <td>0.308134</td>\n",
       "      <td>0.391016</td>\n",
       "      <td>0.247009</td>\n",
       "    </tr>\n",
       "    <tr>\n",
       "      <th>2018</th>\n",
       "      <td>0.395965</td>\n",
       "      <td>0.147566</td>\n",
       "      <td>0.208828</td>\n",
       "      <td>0.300328</td>\n",
       "      <td>0.293871</td>\n",
       "      <td>0.263919</td>\n",
       "    </tr>\n",
       "    <tr>\n",
       "      <th>2017</th>\n",
       "      <td>0.232507</td>\n",
       "      <td>0.138812</td>\n",
       "      <td>0.255472</td>\n",
       "      <td>0.300328</td>\n",
       "      <td>0.240218</td>\n",
       "      <td>0.294720</td>\n",
       "    </tr>\n",
       "    <tr>\n",
       "      <th>2016</th>\n",
       "      <td>0.166383</td>\n",
       "      <td>0.196338</td>\n",
       "      <td>0.300422</td>\n",
       "      <td>0.308506</td>\n",
       "      <td>0.204275</td>\n",
       "      <td>0.304383</td>\n",
       "    </tr>\n",
       "    <tr>\n",
       "      <th>2015</th>\n",
       "      <td>0.171845</td>\n",
       "      <td>0.002501</td>\n",
       "      <td>0.337071</td>\n",
       "      <td>0.308506</td>\n",
       "      <td>0.182064</td>\n",
       "      <td>0.309215</td>\n",
       "    </tr>\n",
       "    <tr>\n",
       "      <th>2014</th>\n",
       "      <td>0.159361</td>\n",
       "      <td>-0.130058</td>\n",
       "      <td>0.322471</td>\n",
       "      <td>0.299213</td>\n",
       "      <td>0.190307</td>\n",
       "      <td>0.309215</td>\n",
       "    </tr>\n",
       "    <tr>\n",
       "      <th>2013</th>\n",
       "      <td>0.144342</td>\n",
       "      <td>0.031264</td>\n",
       "      <td>0.403728</td>\n",
       "      <td>0.298098</td>\n",
       "      <td>0.152005</td>\n",
       "      <td>0.340015</td>\n",
       "    </tr>\n",
       "    <tr>\n",
       "      <th>2012</th>\n",
       "      <td>0.120155</td>\n",
       "      <td>0.358911</td>\n",
       "      <td>0.388933</td>\n",
       "      <td>0.298098</td>\n",
       "      <td>0.157787</td>\n",
       "      <td>0.347866</td>\n",
       "    </tr>\n",
       "    <tr>\n",
       "      <th>2011</th>\n",
       "      <td>0.203834</td>\n",
       "      <td>0.297633</td>\n",
       "      <td>0.461507</td>\n",
       "      <td>0.298098</td>\n",
       "      <td>0.132974</td>\n",
       "      <td>0.346055</td>\n",
       "    </tr>\n",
       "  </tbody>\n",
       "</table>\n",
       "</div>"
      ],
      "text/plain": [
       "      InflaciónTurquia  InflacionEspaña      Euro  DemoEspaña       Try  \\\n",
       "2021          0.703764         0.819117  0.105077    0.295125  0.584034   \n",
       "2020          0.284783        -0.066280  0.142614    0.301815  0.430313   \n",
       "2019          0.230947         0.098794  0.156947    0.308134  0.391016   \n",
       "2018          0.395965         0.147566  0.208828    0.300328  0.293871   \n",
       "2017          0.232507         0.138812  0.255472    0.300328  0.240218   \n",
       "2016          0.166383         0.196338  0.300422    0.308506  0.204275   \n",
       "2015          0.171845         0.002501  0.337071    0.308506  0.182064   \n",
       "2014          0.159361        -0.130058  0.322471    0.299213  0.190307   \n",
       "2013          0.144342         0.031264  0.403728    0.298098  0.152005   \n",
       "2012          0.120155         0.358911  0.388933    0.298098  0.157787   \n",
       "2011          0.203834         0.297633  0.461507    0.298098  0.132974   \n",
       "\n",
       "      DemoTurquia  \n",
       "2021     0.262712  \n",
       "2020     0.270563  \n",
       "2019     0.247009  \n",
       "2018     0.263919  \n",
       "2017     0.294720  \n",
       "2016     0.304383  \n",
       "2015     0.309215  \n",
       "2014     0.309215  \n",
       "2013     0.340015  \n",
       "2012     0.347866  \n",
       "2011     0.346055  "
      ]
     },
     "execution_count": 330,
     "metadata": {},
     "output_type": "execute_result"
    }
   ],
   "source": [
    "Datafinal=pd.merge(left=Datafi2 ,right=Datafi, how='inner',left_index= True, right_index=True)\n",
    "Datafinal"
   ]
  },
  {
   "cell_type": "markdown",
   "id": "e9508c69",
   "metadata": {},
   "source": [
    "### Grafica y Conclusiones"
   ]
  },
  {
   "cell_type": "markdown",
   "id": "8f0bb6c6",
   "metadata": {},
   "source": [
    "#### En este caso, tras las primeras pruebas analizando las variables de cada país, pensamos que lo más acertado era descartar la variable del precio del euro con respecto a la lira al ser bastante irrelevante para los propósitos de nuestras gráficas. Es por ello que, finalmente, escogimos relacionar el IPC el index democrático y el valor de la moneda para el caso turco, frente a el PIC y el index democrático en el caso de España. Primero, realizamos un modelo sin ningún tipo de normalización."
   ]
  },
  {
   "cell_type": "code",
   "execution_count": 294,
   "id": "f0624e50",
   "metadata": {},
   "outputs": [],
   "source": [
    "sns.set(rc = {'figure.figsize':(15,8)})"
   ]
  },
  {
   "cell_type": "code",
   "execution_count": 336,
   "id": "1dcccc67",
   "metadata": {},
   "outputs": [
    {
     "data": {
      "text/plain": [
       "<AxesSubplot:>"
      ]
     },
     "execution_count": 336,
     "metadata": {},
     "output_type": "execute_result"
    },
    {
     "data": {
      "image/png": "[encoded data removed]",
      "text/plain": [
       "<Figure size 1080x576 with 1 Axes>"
      ]
     },
     "metadata": {},
     "output_type": "display_data"
    }
   ],
   "source": [
    "Datafinal.index.names = ['']\n",
    "sns.lineplot(data=Datafinal[['InflaciónTurquia', 'InflacionEspaña']])"
   ]
  },
  {
   "cell_type": "markdown",
   "id": "9a2fe4b0",
   "metadata": {},
   "source": [
    "#####  En el caso español, no parece, a simple vista, que exista ningún tipo de relación. Ello puede ser explicado por una serie de factores que veremos más adelante en las conclusiones."
   ]
  },
  {
   "cell_type": "code",
   "execution_count": 337,
   "id": "0592dcdf",
   "metadata": {},
   "outputs": [
    {
     "data": {
      "text/plain": [
       "<AxesSubplot:>"
      ]
     },
     "execution_count": 337,
     "metadata": {},
     "output_type": "execute_result"
    },
    {
     "data": {
      "image/png": "[encoded data removed]",
      "text/plain": [
       "<Figure size 1080x576 with 1 Axes>"
      ]
     },
     "metadata": {},
     "output_type": "display_data"
    }
   ],
   "source": [
    "sns.lineplot(data=Datafinal[['Try','InflaciónTurquia','DemoTurquia']])"
   ]
  },
  {
   "cell_type": "markdown",
   "id": "5d053ca8",
   "metadata": {},
   "source": [
    "#### Tras la normalización standard, comprobamos que las tres variables se relacionan. La subida del IPC se relaciona con la devaluación de la lira frente al euro, mientras que el índice de democracia tiene una bajada suave pero constante a medida que los otros dos valores suben"
   ]
  },
  {
   "cell_type": "code",
   "execution_count": 340,
   "id": "9236088e",
   "metadata": {},
   "outputs": [
    {
     "data": {
      "text/plain": [
       "<AxesSubplot:>"
      ]
     },
     "execution_count": 340,
     "metadata": {},
     "output_type": "execute_result"
    },
    {
     "data": {
      "image/png": "[encoded data removed]",
      "text/plain": [
       "<Figure size 1080x576 with 1 Axes>"
      ]
     },
     "metadata": {},
     "output_type": "display_data"
    }
   ],
   "source": [
    "sns.lineplot(data=Datafinal[['InflacionEspaña', 'DemoEspaña']])"
   ]
  },
  {
   "cell_type": "markdown",
   "id": "8efc205f",
   "metadata": {},
   "source": [
    "#### En en el caso español, la gráfica sigue mostrando una falta de relación, cuyos motivos explicaremos más abajo.\n",
    "\n",
    "A continuación, procedemos con el método de normalización de mínimos y máximos en una escala de 0 a 1."
   ]
  },
  {
   "cell_type": "code",
   "execution_count": 345,
   "id": "d453772c",
   "metadata": {},
   "outputs": [],
   "source": [
    "x = Norfi #returns a numpy array\n",
    "min_max_scaler = preprocessing.MinMaxScaler()\n",
    "x_scaled = min_max_scaler.fit_transform(x)\n",
    "Escal = pd.DataFrame(x_scaled,index=cronology, columns=names)"
   ]
  },
  {
   "cell_type": "code",
   "execution_count": 346,
   "id": "f6ce20b5",
   "metadata": {},
   "outputs": [
    {
     "data": {
      "text/html": [
       "<div>\n",
       "<style scoped>\n",
       "    .dataframe tbody tr th:only-of-type {\n",
       "        vertical-align: middle;\n",
       "    }\n",
       "\n",
       "    .dataframe tbody tr th {\n",
       "        vertical-align: top;\n",
       "    }\n",
       "\n",
       "    .dataframe thead th {\n",
       "        text-align: right;\n",
       "    }\n",
       "</style>\n",
       "<table border=\"1\" class=\"dataframe\">\n",
       "  <thead>\n",
       "    <tr style=\"text-align: right;\">\n",
       "      <th></th>\n",
       "      <th>Euro</th>\n",
       "      <th>DemoEspaña</th>\n",
       "      <th>Try</th>\n",
       "      <th>DemoTurquia</th>\n",
       "    </tr>\n",
       "  </thead>\n",
       "  <tbody>\n",
       "    <tr>\n",
       "      <th>2021</th>\n",
       "      <td>0.000000</td>\n",
       "      <td>0.000000</td>\n",
       "      <td>1.000000</td>\n",
       "      <td>0.155689</td>\n",
       "    </tr>\n",
       "    <tr>\n",
       "      <th>2020</th>\n",
       "      <td>0.105315</td>\n",
       "      <td>0.500000</td>\n",
       "      <td>0.659200</td>\n",
       "      <td>0.233533</td>\n",
       "    </tr>\n",
       "    <tr>\n",
       "      <th>2019</th>\n",
       "      <td>0.145526</td>\n",
       "      <td>0.972222</td>\n",
       "      <td>0.572078</td>\n",
       "      <td>0.000000</td>\n",
       "    </tr>\n",
       "    <tr>\n",
       "      <th>2018</th>\n",
       "      <td>0.291085</td>\n",
       "      <td>0.388889</td>\n",
       "      <td>0.356708</td>\n",
       "      <td>0.167665</td>\n",
       "    </tr>\n",
       "    <tr>\n",
       "      <th>2017</th>\n",
       "      <td>0.421947</td>\n",
       "      <td>0.388889</td>\n",
       "      <td>0.237758</td>\n",
       "      <td>0.473054</td>\n",
       "    </tr>\n",
       "    <tr>\n",
       "      <th>2016</th>\n",
       "      <td>0.548061</td>\n",
       "      <td>1.000000</td>\n",
       "      <td>0.158073</td>\n",
       "      <td>0.568862</td>\n",
       "    </tr>\n",
       "    <tr>\n",
       "      <th>2015</th>\n",
       "      <td>0.650883</td>\n",
       "      <td>1.000000</td>\n",
       "      <td>0.108833</td>\n",
       "      <td>0.616766</td>\n",
       "    </tr>\n",
       "    <tr>\n",
       "      <th>2014</th>\n",
       "      <td>0.609922</td>\n",
       "      <td>0.305556</td>\n",
       "      <td>0.127107</td>\n",
       "      <td>0.616766</td>\n",
       "    </tr>\n",
       "    <tr>\n",
       "      <th>2013</th>\n",
       "      <td>0.837896</td>\n",
       "      <td>0.222222</td>\n",
       "      <td>0.042190</td>\n",
       "      <td>0.922156</td>\n",
       "    </tr>\n",
       "    <tr>\n",
       "      <th>2012</th>\n",
       "      <td>0.796385</td>\n",
       "      <td>0.222222</td>\n",
       "      <td>0.055010</td>\n",
       "      <td>1.000000</td>\n",
       "    </tr>\n",
       "    <tr>\n",
       "      <th>2011</th>\n",
       "      <td>1.000000</td>\n",
       "      <td>0.222222</td>\n",
       "      <td>0.000000</td>\n",
       "      <td>0.982036</td>\n",
       "    </tr>\n",
       "  </tbody>\n",
       "</table>\n",
       "</div>"
      ],
      "text/plain": [
       "          Euro  DemoEspaña       Try  DemoTurquia\n",
       "2021  0.000000    0.000000  1.000000     0.155689\n",
       "2020  0.105315    0.500000  0.659200     0.233533\n",
       "2019  0.145526    0.972222  0.572078     0.000000\n",
       "2018  0.291085    0.388889  0.356708     0.167665\n",
       "2017  0.421947    0.388889  0.237758     0.473054\n",
       "2016  0.548061    1.000000  0.158073     0.568862\n",
       "2015  0.650883    1.000000  0.108833     0.616766\n",
       "2014  0.609922    0.305556  0.127107     0.616766\n",
       "2013  0.837896    0.222222  0.042190     0.922156\n",
       "2012  0.796385    0.222222  0.055010     1.000000\n",
       "2011  1.000000    0.222222  0.000000     0.982036"
      ]
     },
     "execution_count": 346,
     "metadata": {},
     "output_type": "execute_result"
    }
   ],
   "source": [
    "Escal"
   ]
  },
  {
   "cell_type": "code",
   "execution_count": 348,
   "id": "06118388",
   "metadata": {},
   "outputs": [
    {
     "data": {
      "text/plain": [
       "<AxesSubplot:>"
      ]
     },
     "execution_count": 348,
     "metadata": {},
     "output_type": "execute_result"
    },
    {
     "data": {
      "image/png": "[encoded data removed]",
      "text/plain": [
       "<Figure size 1080x576 with 1 Axes>"
      ]
     },
     "metadata": {},
     "output_type": "display_data"
    }
   ],
   "source": [
    "sns.lineplot(data=Escal[['Try','Euro','DemoEspaña','DemoTurquia']])"
   ]
  },
  {
   "cell_type": "markdown",
   "id": "eb663f32",
   "metadata": {},
   "source": [
    "####  En el caso español, esta gráfica es un despropósito, por tanto, confirmamos la relación nula entre ambas variables.\n",
    "En el caso turco, más exagerado, vemos que si existe una relación fuerte entre las tres variables, por ello, debemos tomar como referencia la normalización standard."
   ]
  },
  {
   "cell_type": "markdown",
   "id": "b8bb0171",
   "metadata": {},
   "source": [
    "###  Conclusion"
   ]
  },
  {
   "cell_type": "markdown",
   "id": "3cc0508a",
   "metadata": {},
   "source": [
    "####  Vamos a hacer una lista resumida de los hallazgos de este proyecto, y a relacionarlos con la información política, social y económica disponible para la bibliografía de ambos países.\n",
    "\n",
    "Comencemos por el caso español:\n",
    "\n",
    "España es una democracia consolidada tras los años 80 y su integración en la Comunidad Económica Europea, posteriormente, la Unión Europea. Esto implica que la soberanía económica y los fundamentos del derecho son compartidos mediante dos intrumentos esenciales: El Bancon Central Europeo y el Tribunal de Justicia de la Unión Europea.\n",
    "\n",
    "En el caso del primero, al ser el que fija los tipos de interés y la forma en la que la moneda común funciona, la subida o bajada del IPC puede estar controlada por instancias supranacionales, mientras que cualquier entrada en recesión o expansión de la macroeconomía española depende de su integración en el sistema financiero internacional. Es por ello que los cambios en la economía del orbe occidental afentan a todos los países por igual, pero en el caso europeo, están controlados por el BCE.\n",
    "\n",
    "En relación con el Tribunal de Justicia de la Unión Europea, se trata de un mecanismo que vela por la estandarización y el respeto a las normas democráticas de todos los miembros de la Unión Europea. Nuestro index democrático está fuertemente relacionado con las decisiones que la Comisión Europea, el Parlamento Europeo y otros organismos supranacionales de la UE toman, no con los cambios económicos. Este puede verse incluso en los peores años de la crisis de 2008, como fue 2012, en el que nuestro index no varió ni un ápice. Se puede ver una ligera bajada del mismo en el año 2020, junto con una caída del IPC. Ambos pueden ser explicados por el contexto de pandemia. La invocación del Estado de Alarma y la consiguiente restricción de libertades, así como la caída del consumo derivado del confinamiento pueden ser una explicación raxonables.\n",
    "\n",
    "Es por todo ello que España es, aunque imperfecta, una democracia consolidada con un desarrollo político deficiente pero robusto, que resiste los cambios agresivos en el contexto económico mundial.\n",
    "\n",
    "El caso turco, por otro lado, muestra una serie de relaciones económico-políticas mucho más problemáticas.\n",
    "\n",
    "Desde la llegada en 2011 del partido de Erdoğan, se han emprendido una serie de reformas económicas en el país con el objetivo de volverlo atractivo para el establecimiento de capitales extranjeros y la inversión. Estas políticas económicas han consistido en la devaluación de la lira frente al euro y el dollar, para abaratar las exportaciones, muy en línea con lo que otros países han realizado en los últimos años.\n",
    "\n",
    "No obstante, encontramos que también gran porcentaje de las empresas de capital turco o estatalizadas han sido vendidas a capitales extranjeros, por lo que los beneficios derivados de la política devaluatoria se resienten, al no quedarse el caspital en suelo turco.\n",
    "\n",
    "A ello podemos sumarle las peligrosas reformas constitucionales que se realizaron en 2014 tras el fallido golpe de Estado. Erdoğan ha transformado el modelo de república parlametaria establecida desde los tiempos del kemalismo inicial en una república de corte presidencial, en la que el control del ejecutivo se ha extendido al Banco de Turquía y al propio poder judicial. Esto hace que, al controlarse todo desde el ejecutivo, se pueda ver la relación entre su política económica, la subida de la inflación y, ante la protesta social generada, la bajada del índice de democracia del país.\n",
    "\n",
    "En relación a lo explicado, Turquía no tiene mecanismos supranacionales de control, como España, y es por ello que su economía se está resintiendo tanto y existe un riesgo de cierto colapso político-social en el único régimen constitucional de mayoría musulmana del mundo.\n",
    "\n",
    "Cocluyendo, el presente estudio muestra las capacidades de la extracción, limpieza y análisis de datos a la hora de hacer comparaciones que, aunque gruesas, muestran y permiten analizar la evolución del oriente y el occidente del Mediterráneo. Del mismo modo, muestra como la selección correcta de variables y datos para el análisis se antoja esencial a la hora de contruir un modelo explicativo de corte científico, y el análisis subsiguiente del mismo."
   ]
  },
  {
   "cell_type": "markdown",
   "id": "61a193b0",
   "metadata": {},
   "source": [
    "###  Terminamos con la Inflacion de España Actual"
   ]
  },
  {
   "cell_type": "code",
   "execution_count": 369,
   "id": "152bca47",
   "metadata": {},
   "outputs": [
    {
     "data": {
      "text/html": [
       "<div>\n",
       "<style scoped>\n",
       "    .dataframe tbody tr th:only-of-type {\n",
       "        vertical-align: middle;\n",
       "    }\n",
       "\n",
       "    .dataframe tbody tr th {\n",
       "        vertical-align: top;\n",
       "    }\n",
       "\n",
       "    .dataframe thead th {\n",
       "        text-align: right;\n",
       "    }\n",
       "</style>\n",
       "<table border=\"1\" class=\"dataframe\">\n",
       "  <thead>\n",
       "    <tr style=\"text-align: right;\">\n",
       "      <th></th>\n",
       "      <th>Interanual</th>\n",
       "      <th>Acum.desde Enero</th>\n",
       "      <th>Variacion Mensual</th>\n",
       "    </tr>\n",
       "    <tr>\n",
       "      <th></th>\n",
       "      <th></th>\n",
       "      <th></th>\n",
       "      <th></th>\n",
       "    </tr>\n",
       "  </thead>\n",
       "  <tbody>\n",
       "    <tr>\n",
       "      <th>Octubre 2022</th>\n",
       "      <td>7,3%</td>\n",
       "      <td>5,6%</td>\n",
       "      <td>0,4%</td>\n",
       "    </tr>\n",
       "    <tr>\n",
       "      <th>Septiembre 2022</th>\n",
       "      <td>8,9%</td>\n",
       "      <td>5,3%</td>\n",
       "      <td>-0,7%</td>\n",
       "    </tr>\n",
       "    <tr>\n",
       "      <th>Agosto 2022</th>\n",
       "      <td>10,5%</td>\n",
       "      <td>6,1%</td>\n",
       "      <td>0,3%</td>\n",
       "    </tr>\n",
       "    <tr>\n",
       "      <th>Julio 2022</th>\n",
       "      <td>10,8%</td>\n",
       "      <td>5,8%</td>\n",
       "      <td>-0,3%</td>\n",
       "    </tr>\n",
       "    <tr>\n",
       "      <th>Junio 2022</th>\n",
       "      <td>10,2%</td>\n",
       "      <td>6,1%</td>\n",
       "      <td>1,9%</td>\n",
       "    </tr>\n",
       "    <tr>\n",
       "      <th>Mayo 2022</th>\n",
       "      <td>8,7%</td>\n",
       "      <td>4,1%</td>\n",
       "      <td>0,8%</td>\n",
       "    </tr>\n",
       "    <tr>\n",
       "      <th>Abril 2022</th>\n",
       "      <td>8,3%</td>\n",
       "      <td>3,3%</td>\n",
       "      <td>-0,2%</td>\n",
       "    </tr>\n",
       "    <tr>\n",
       "      <th>Marzo 2022</th>\n",
       "      <td>9,8%</td>\n",
       "      <td>3,5%</td>\n",
       "      <td>3,0%</td>\n",
       "    </tr>\n",
       "    <tr>\n",
       "      <th>Febrero 2022</th>\n",
       "      <td>7,6%</td>\n",
       "      <td>0,4%</td>\n",
       "      <td>0,8%</td>\n",
       "    </tr>\n",
       "    <tr>\n",
       "      <th>Enero 2022</th>\n",
       "      <td>6,1%</td>\n",
       "      <td>-0,4%</td>\n",
       "      <td>-0,4%</td>\n",
       "    </tr>\n",
       "    <tr>\n",
       "      <th>Diciembre 2021</th>\n",
       "      <td>6,5%</td>\n",
       "      <td>6,5%</td>\n",
       "      <td>1,2%</td>\n",
       "    </tr>\n",
       "    <tr>\n",
       "      <th>Noviembre 2021</th>\n",
       "      <td>5,5%</td>\n",
       "      <td>5,3%</td>\n",
       "      <td>0,3%</td>\n",
       "    </tr>\n",
       "    <tr>\n",
       "      <th>Octubre 2021</th>\n",
       "      <td>5,4%</td>\n",
       "      <td>5,0%</td>\n",
       "      <td>1,8%</td>\n",
       "    </tr>\n",
       "  </tbody>\n",
       "</table>\n",
       "</div>"
      ],
      "text/plain": [
       "                Interanual Acum.desde Enero Variacion Mensual\n",
       "                                                             \n",
       "Octubre 2022          7,3%             5,6%              0,4%\n",
       "Septiembre 2022       8,9%             5,3%             -0,7%\n",
       "Agosto 2022          10,5%             6,1%              0,3%\n",
       "Julio 2022           10,8%             5,8%             -0,3%\n",
       "Junio 2022           10,2%             6,1%              1,9%\n",
       "Mayo 2022             8,7%             4,1%              0,8%\n",
       "Abril 2022            8,3%             3,3%             -0,2%\n",
       "Marzo 2022            9,8%             3,5%              3,0%\n",
       "Febrero 2022          7,6%             0,4%              0,8%\n",
       "Enero 2022            6,1%            -0,4%             -0,4%\n",
       "Diciembre 2021        6,5%             6,5%              1,2%\n",
       "Noviembre 2021        5,5%             5,3%              0,3%\n",
       "Octubre 2021          5,4%             5,0%              1,8%"
      ]
     },
     "execution_count": 369,
     "metadata": {},
     "output_type": "execute_result"
    }
   ],
   "source": [
    "InflaEsp"
   ]
  },
  {
   "cell_type": "code",
   "execution_count": null,
   "id": "dcac5b39",
   "metadata": {},
   "outputs": [],
   "source": []
  }
 ],
 "metadata": {
  "kernelspec": {
   "display_name": "Python 3 (ipykernel)",
   "language": "python",
   "name": "python3"
  },
  "language_info": {
   "codemirror_mode": {
    "name": "ipython",
    "version": 3
   },
   "file_extension": ".py",
   "mimetype": "text/x-python",
   "name": "python",
   "nbconvert_exporter": "python",
   "pygments_lexer": "ipython3",
   "version": "3.9.12"
  }
 },
 "nbformat": 4,
 "nbformat_minor": 5
}
